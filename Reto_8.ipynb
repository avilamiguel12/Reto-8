{
  "nbformat": 4,
  "nbformat_minor": 0,
  "metadata": {
    "colab": {
      "provenance": []
    },
    "kernelspec": {
      "name": "python3",
      "display_name": "Python 3"
    },
    "language_info": {
      "name": "python"
    }
  },
  "cells": [
    {
      "cell_type": "markdown",
      "source": [
        "# Funciones lambda"
      ],
      "metadata": {
        "id": "nYY2kBy3r7g7"
      }
    },
    {
      "cell_type": "code",
      "execution_count": null,
      "metadata": {
        "colab": {
          "base_uri": "https://localhost:8080/"
        },
        "id": "ftWanzcprbrT",
        "outputId": "82516b0e-e6a5-4771-eab6-25ad59e91790"
      },
      "outputs": [
        {
          "output_type": "stream",
          "name": "stdout",
          "text": [
            "Ingrese el valor del prestamo: 4000000\n",
            "ingrese la tasa de interes (sin el simbolo)2\n",
            "Ingrese la cantidad de meses: 12\n",
            "El valor del prestamo es de: 5072967.1782501815\n"
          ]
        }
      ],
      "source": [
        "#Interes compuesto\n",
        "if __name__=='__main__':\n",
        "    c= float (input(\"Ingrese el valor del prestamo: \"))\n",
        "    i= float (input(\"ingrese la tasa de interes (sin el simbolo: )\"))\n",
        "    n= int (input(\"Ingrese la cantidad de meses: \"))\n",
        "    interes_compuesto = lambda x, y, z: c*((1+(i/100))**n)\n",
        "    rta_interes = interes_compuesto (n, i, c)\n",
        "    print (f\"El valor del prestamo es de: {rta_interes}\")"
      ]
    },
    {
      "cell_type": "code",
      "source": [
        "#Funcion lambda para calcular el promedio\n",
        "if __name__=='__main__':\n",
        "  M=float(input(\"Ingrese su primer nota: \"))\n",
        "  A=float(input(\"Ingrese su segunda nota: \"))\n",
        "  L=float(input(\"Ingrese su tercer nota: \"))\n",
        "  promedio= lambda x, y, z: (M+A+L)/3\n",
        "  rta_promedio= promedio (M,A,L)\n",
        "\n",
        "  print (\"El promedio es:\", rta_promedio)\n"
      ],
      "metadata": {
        "colab": {
          "base_uri": "https://localhost:8080/"
        },
        "id": "2l8_LogXsKpd",
        "outputId": "c3fbe5ec-0e68-4c13-ce69-2f12a0fff0fb"
      },
      "execution_count": null,
      "outputs": [
        {
          "output_type": "stream",
          "name": "stdout",
          "text": [
            "Ingrese su primer nota: 0.8\n",
            "Ingrese su segunda nota: 3.3\n",
            "Ingrese su tercer nota: 5\n",
            "El promedio es: 3.033333333333333\n"
          ]
        }
      ]
    },
    {
      "cell_type": "code",
      "source": [
        "#calcular la raiz cubica del número menor\n",
        "import math\n",
        "if __name__=='__main__':\n",
        "    M=float(input(\"Ingrese el primer número: \"))\n",
        "    A=float(input(\"Ingrese el segundo número: \"))\n",
        "    L=float(input(\"Ingrese el tercer número: \"))\n",
        "    raiz=lambda x, y, z: min(M,A,L)**(1/3)\n",
        "    rta_raiz=raiz(M,A,L)\n",
        "    print (\"La raiz cubica del menor número es:\",rta_raiz)\n"
      ],
      "metadata": {
        "colab": {
          "base_uri": "https://localhost:8080/"
        },
        "id": "Lcb1QD6xzBDu",
        "outputId": "2bde4a35-92a4-4ba7-ca8c-c3903fc3240b"
      },
      "execution_count": null,
      "outputs": [
        {
          "output_type": "stream",
          "name": "stdout",
          "text": [
            "Ingrese el primer número: 8\n",
            "Ingrese el segundo número: 12\n",
            "Ingrese el tercer número: 13\n",
            "La raiz cubica del menor número es: 2.0\n"
          ]
        }
      ]
    },
    {
      "cell_type": "markdown",
      "source": [
        "#Argumentos no definidos"
      ],
      "metadata": {
        "id": "LaAe2appr6o0"
      }
    },
    {
      "cell_type": "code",
      "source": [
        "#Elevar un numero al cuadrado\n",
        "def cuadrado (*args) -> int:\n",
        "  for num in args:\n",
        "    return num ** 2\n",
        "\n",
        "if __name__=='__main__':\n",
        "  x = int(input('ingrese un numero: '))\n",
        "  resultado = cuadrado (x)\n",
        "  print('el cuadrado es:',resultado)"
      ],
      "metadata": {
        "colab": {
          "base_uri": "https://localhost:8080/"
        },
        "id": "yv0X6F_j2bDA",
        "outputId": "a64f4ad5-02b1-477b-98f3-c686f70a033f"
      },
      "execution_count": null,
      "outputs": [
        {
          "output_type": "stream",
          "name": "stdout",
          "text": [
            "ingrese un numero: 124\n",
            "el cuadrado es: 15376\n"
          ]
        }
      ]
    },
    {
      "cell_type": "code",
      "source": [
        "#Calcular carne\n",
        "def calcular_carne(*args)->int:\n",
        "  m,a,l=args\n",
        "  p_gallina=6\n",
        "  p_gallo=7\n",
        "  p_pollitos=1\n",
        "  carne_t=(m*p_gallina)+(a*p_gallo)+(l*p_pollitos)\n",
        "  return carne_t\n",
        "if __name__=='__main__':\n",
        "   m=float(input(\"Ingrese el número de gallinas: \"))\n",
        "   a=float(input(\"Ingrese el número de gallos: \"))\n",
        "   l=float(input(\"Ingrese el  número de pollitos: \"))\n",
        "   print(\"la cantidad de carne en kg es:\",calcular_carne(m,a,l))\n",
        "\n"
      ],
      "metadata": {
        "id": "7rqkBcnD3mMl",
        "colab": {
          "base_uri": "https://localhost:8080/"
        },
        "outputId": "7407b409-e457-4745-f940-4ed77babba8c"
      },
      "execution_count": 17,
      "outputs": [
        {
          "output_type": "stream",
          "name": "stdout",
          "text": [
            "Ingrese el número de gallinas: 2\n",
            "Ingrese el número de gallos: 4\n",
            "Ingrese el  número de pollitos: 1\n",
            "la cantidad de carne en kg es: 41.0\n"
          ]
        }
      ]
    },
    {
      "cell_type": "code",
      "source": [
        "#Identificar si un numero es par o impar\n",
        "def par_impar (*args) -> bool:\n",
        "  for num in args: #Identidicar los numeros que hacen parte de la funcion\n",
        "    if num%2 == 0:\n",
        "      print(f'el numero {num} es par')\n",
        "    else:\n",
        "      print(f'el numero {num} es impar')\n",
        "if __name__=='__main__':\n",
        "  m=int(input('ingrese el primer numero: '))\n",
        "  a=int(input('ingrese el segundo numero: '))\n",
        "  l=int(input('ingrese el tercer numero: '))\n",
        "\n",
        "  par_impar(m,a,l)"
      ],
      "metadata": {
        "colab": {
          "base_uri": "https://localhost:8080/"
        },
        "id": "B8dqoYqgADlc",
        "outputId": "9188eaaf-9a3a-4e7d-9838-c76af00a99df"
      },
      "execution_count": 18,
      "outputs": [
        {
          "output_type": "stream",
          "name": "stdout",
          "text": [
            "ingrese el primer numero: 1\n",
            "ingrese el segundo numero: 2\n",
            "ingrese el tercer numero: 4\n",
            "el numero 1 es impar\n",
            "el numero 2 es par\n",
            "el numero 4 es par\n"
          ]
        }
      ]
    },
    {
      "cell_type": "markdown",
      "source": [
        "#Funcion recursiva para calcular la potencia"
      ],
      "metadata": {
        "id": "hdQuI_kGAQwj"
      }
    },
    {
      "cell_type": "code",
      "source": [
        "def potencia(base: int, exp: int):\n",
        "  if exp==0:\n",
        "    return 1\n",
        "  else:\n",
        "    return (base*potencia(base, exp-1))\n",
        "if __name__=='__main__':\n",
        "  base=int(input('ingrese la base:'))\n",
        "  exp=int(input('ingrese el exponente:'))\n",
        "  rta=potencia (base, exp)\n",
        "  print(base,' elevado a la ',exp,' es ',rta)"
      ],
      "metadata": {
        "colab": {
          "base_uri": "https://localhost:8080/"
        },
        "id": "uzo7zwEsAWVg",
        "outputId": "d188c1a7-8553-4889-faff-2c320bfdd5d2"
      },
      "execution_count": 1,
      "outputs": [
        {
          "output_type": "stream",
          "name": "stdout",
          "text": [
            "ingrese la base:2\n",
            "ingrese el exponente:4\n",
            "2  elevado a la  4  es  16\n"
          ]
        }
      ]
    },
    {
      "cell_type": "markdown",
      "source": [
        "#Tiempos"
      ],
      "metadata": {
        "id": "XmQZv8d3BIG2"
      }
    },
    {
      "cell_type": "code",
      "source": [
        "import time\n",
        "def fibonacci_I(n : int )-> int:\n",
        "  start_time = time.time()\n",
        "  i : int = 1\n",
        "  n1 : int = 0\n",
        "  n2 : int = 1\n",
        "  while(i <= n):\n",
        "    sumaFibo = n1 + n2\n",
        "    n1 = n2\n",
        "    n2 = sumaFibo\n",
        "    i += 1\n",
        "  end_time = time.time()\n",
        "  print(\"el tiempo de ejecucion es de \",end_time-start_time)\n",
        "  return sumaFibo\n",
        "\n",
        "\n",
        "\n",
        "if __name__ == \"__main__\":\n",
        "  num = int(input(\"Ingrese numero: \"))\n",
        "  serieFibo = fibonacci_I(num)\n",
        "  print(\"La serie de Fibonacci hasta \",num,\" es \",serieFibo)"
      ],
      "metadata": {
        "colab": {
          "base_uri": "https://localhost:8080/"
        },
        "id": "XT9FJSNZBJP8",
        "outputId": "7da3d53b-e627-4afd-decd-504ae12dcbe5"
      },
      "execution_count": 9,
      "outputs": [
        {
          "output_type": "stream",
          "name": "stdout",
          "text": [
            "Ingrese numero: 12\n",
            "el tiempo de ejecucion es de  4.0531158447265625e-06\n",
            "La serie de Fibonacci hasta  12  es  233\n"
          ]
        }
      ]
    },
    {
      "cell_type": "code",
      "source": [
        "import time\n",
        "calls = 0\n",
        "def fibonacci_r(n : int )-> int:\n",
        "\n",
        "  global calls\n",
        "  if n < 2:\n",
        "    return 1\n",
        "  else:\n",
        "    calls += 1\n",
        "    return fibonacci_r(n-1)+fibonacci_r(n-2)\n",
        "\n",
        "\n",
        "\n",
        "if __name__ == \"__main__\":\n",
        "  num = int(input(\"Ingrese numero: \"))\n",
        "  start_time = time.time()\n",
        "  serieFibo = fibonacci_r(num)\n",
        "  end_time = time.time()\n",
        "  print(f'el tiempo de ejecucion es de {end_time-start_time}')\n",
        "  print(\"La serie de Fibonacci hasta \" + str(num) + \" es \" + str(serieFibo))\n",
        "  print(calls)"
      ],
      "metadata": {
        "colab": {
          "base_uri": "https://localhost:8080/"
        },
        "id": "hNWRjPS1BtP7",
        "outputId": "e6bacf2f-4ffc-4213-d4a7-2fe80a3410e2"
      },
      "execution_count": 10,
      "outputs": [
        {
          "output_type": "stream",
          "name": "stdout",
          "text": [
            "Ingrese numero: 12\n",
            "el tiempo de ejecucion es de 0.00029730796813964844\n",
            "La serie de Fibonacci hasta 12 es 233\n",
            "232\n"
          ]
        }
      ]
    },
    {
      "cell_type": "markdown",
      "source": [
        "#cuenta de stackoverflow\n",
        "https://stackoverflow.com/users/29622619/miguel-angel-avila-viasus"
      ],
      "metadata": {
        "id": "nQwdmwgxCOtU"
      }
    },
    {
      "cell_type": "markdown",
      "source": [
        "#cuenta linkedin\n",
        "https://www.linkedin.com/in/miguel-%C3%A1vila-b4a753325?utm_source=share&utm_campaign=share_via&utm_content=profile&utm_medium=android_app"
      ],
      "metadata": {
        "id": "W6nM4WgNCsmy"
      }
    }
  ]
}